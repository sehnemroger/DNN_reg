{
  "nbformat": 4,
  "nbformat_minor": 5,
  "metadata": {
    "kernelspec": {
      "display_name": "Python 3",
      "language": "python",
      "name": "python3"
    },
    "language_info": {
      "codemirror_mode": {
        "name": "ipython",
        "version": 3
      },
      "file_extension": ".py",
      "mimetype": "text/x-python",
      "name": "python",
      "nbconvert_exporter": "python",
      "pygments_lexer": "ipython3",
      "version": "3.8.5"
    },
    "colab": {
      "name": "reg_jup.ipynb",
      "provenance": []
    }
  },
  "cells": [
    {
      "cell_type": "markdown",
      "metadata": {
        "id": "v3qj_vvCbYbP"
      },
      "source": [
        "# Importing necessary packages"
      ],
      "id": "v3qj_vvCbYbP"
    },
    {
      "cell_type": "code",
      "metadata": {
        "id": "N2kbM3udboSS"
      },
      "source": [
        "import numpy as np\n",
        "import matplotlib.pyplot as plt"
      ],
      "id": "N2kbM3udboSS",
      "execution_count": 9,
      "outputs": []
    },
    {
      "cell_type": "markdown",
      "metadata": {
        "id": "H_7RpKEOTJot"
      },
      "source": [
        "# Generating data \n"
      ],
      "id": "H_7RpKEOTJot"
    },
    {
      "cell_type": "markdown",
      "metadata": {
        "id": "jj6l0y6qTgFJ"
      },
      "source": [
        "## Function to be fitted"
      ],
      "id": "jj6l0y6qTgFJ"
    },
    {
      "cell_type": "code",
      "metadata": {
        "id": "AsU5ygIATkxc"
      },
      "source": [
        "def function(x):\n",
        "  y = np.sin(x)\n",
        "  return y\n",
        "vf = np.vectorize(function)"
      ],
      "id": "AsU5ygIATkxc",
      "execution_count": 13,
      "outputs": []
    },
    {
      "cell_type": "markdown",
      "metadata": {
        "id": "cSgiMMtPcOUA"
      },
      "source": [
        "Plot the function"
      ],
      "id": "cSgiMMtPcOUA"
    },
    {
      "cell_type": "code",
      "metadata": {
        "colab": {
          "base_uri": "https://localhost:8080/",
          "height": 282
        },
        "id": "wfv3wKR6cUVS",
        "outputId": "d30f35fd-f84c-40b0-add5-59fa9a13a836"
      },
      "source": [
        "init = 0\n",
        "endval = 2*np.pi\n",
        "step = .1\n",
        "x = np.arange(init,endval+step,step)\n",
        "plt.plot(x,vf(x))"
      ],
      "id": "wfv3wKR6cUVS",
      "execution_count": 15,
      "outputs": [
        {
          "output_type": "execute_result",
          "data": {
            "text/plain": [
              "[<matplotlib.lines.Line2D at 0x7f02982c00d0>]"
            ]
          },
          "metadata": {
            "tags": []
          },
          "execution_count": 15
        },
        {
          "output_type": "display_data",
          "data": {
            "image/png": "[encoded data removed]",
            "text/plain": [
              "<Figure size 432x288 with 1 Axes>"
            ]
          },
          "metadata": {
            "tags": [],
            "needs_background": "light"
          }
        }
      ]
    }
  ]
}