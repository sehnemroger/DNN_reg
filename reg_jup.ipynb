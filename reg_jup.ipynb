{
  "nbformat": 4,
  "nbformat_minor": 5,
  "metadata": {
    "kernelspec": {
      "name": "python3",
      "display_name": "Python 3",
      "language": "python"
    },
    "colab": {
      "name": "reg_jup.ipynb",
      "provenance": []
    },
    "metadata": {
      "interpreter": {
        "hash": "ac7a56fc0130fd8de867aea1fb9ebc0c0252cc74af8da63793be002f580b48ee"
      }
    },
    "accelerator": "GPU"
  },
  "cells": [
    {
      "cell_type": "markdown",
      "metadata": {
        "id": "v3qj_vvCbYbP"
      },
      "source": [
        "# Importing necessary packages"
      ],
      "id": "v3qj_vvCbYbP"
    },
    {
      "cell_type": "code",
      "metadata": {
        "id": "N2kbM3udboSS"
      },
      "source": [
        "import numpy as np\n",
        "import matplotlib.pyplot as plt\n",
        "import tensorflow as tf\n",
        "from tensorflow import keras"
      ],
      "id": "N2kbM3udboSS",
      "execution_count": 28,
      "outputs": []
    },
    {
      "cell_type": "markdown",
      "metadata": {
        "id": "H_7RpKEOTJot"
      },
      "source": [
        "# Generating data \n"
      ],
      "id": "H_7RpKEOTJot"
    },
    {
      "cell_type": "markdown",
      "metadata": {
        "id": "jj6l0y6qTgFJ"
      },
      "source": [
        "## Function to be fitted"
      ],
      "id": "jj6l0y6qTgFJ"
    },
    {
      "cell_type": "code",
      "metadata": {
        "id": "AsU5ygIATkxc"
      },
      "source": [
        "def function(x):\n",
        "  y = x*np.sin(.5*x*np.sin(.5*x*np.cos(x)))\n",
        "  return y\n",
        "vf = np.vectorize(function)"
      ],
      "id": "AsU5ygIATkxc",
      "execution_count": 29,
      "outputs": []
    },
    {
      "cell_type": "markdown",
      "metadata": {
        "id": "cSgiMMtPcOUA"
      },
      "source": [
        "### Plot the function"
      ],
      "id": "cSgiMMtPcOUA"
    },
    {
      "cell_type": "code",
      "metadata": {
        "id": "wfv3wKR6cUVS"
      },
      "source": [
        "init = -2*np.pi\n",
        "endval = 2*np.pi\n",
        "step = .00005\n",
        "x = np.arange(init,endval+step,step)\n",
        "y = vf(x) + .1*np.random.rand(np.size(x))\n",
        "#plt.plot(x,y)"
      ],
      "id": "wfv3wKR6cUVS",
      "execution_count": 30,
      "outputs": []
    },
    {
      "cell_type": "markdown",
      "metadata": {
        "id": "pUk2XK28silO"
      },
      "source": [
        "## Randomizing and divinding data into test and train sets"
      ],
      "id": "pUk2XK28silO"
    },
    {
      "cell_type": "code",
      "metadata": {
        "id": "QMOkVMJwsilO"
      },
      "source": [
        "p = np.random.permutation(len(x)) # Create a random permutation \n",
        "x_perm = x[p]\n",
        "y_perm = y[p] # Aplling same permutation on both"
      ],
      "id": "QMOkVMJwsilO",
      "execution_count": 31,
      "outputs": []
    },
    {
      "cell_type": "markdown",
      "metadata": {
        "id": "0eK94FvvsilP"
      },
      "source": [
        "### Plotting to see if nothing changed (sceptical people go :D )"
      ],
      "id": "0eK94FvvsilP"
    },
    {
      "cell_type": "code",
      "metadata": {
        "id": "rgb_JGH-silQ"
      },
      "source": [
        "#plt.plot(x,y)\n",
        "#plt.plot(x_perm,y_perm,',r')"
      ],
      "id": "rgb_JGH-silQ",
      "execution_count": 32,
      "outputs": []
    },
    {
      "cell_type": "markdown",
      "metadata": {
        "id": "pD8EgZfcsilR"
      },
      "source": [
        "### Train set and test set, train set is 80% of the data"
      ],
      "id": "pD8EgZfcsilR"
    },
    {
      "cell_type": "code",
      "metadata": {
        "id": "uHNkuM5ksilS"
      },
      "source": [
        "x_train_full , x_test , y_train_full, y_test = x_perm[:int(np.floor(.8*len(x)))], x_perm[int(np.floor(.8*len(x))):], y_perm[:int(np.floor(.8*len(x)))], y_perm[int(np.floor(.8*len(x))):]"
      ],
      "id": "uHNkuM5ksilS",
      "execution_count": 33,
      "outputs": []
    },
    {
      "cell_type": "markdown",
      "metadata": {
        "id": "93kWo8AdsilS"
      },
      "source": [
        "#### Since all the training data is mixed the plot is the same (except for the blank spots)"
      ],
      "id": "93kWo8AdsilS"
    },
    {
      "cell_type": "code",
      "metadata": {
        "id": "KUr_wtxZsilS"
      },
      "source": [
        "#plt.plot(x_train_full,y_train_full,',r')"
      ],
      "id": "KUr_wtxZsilS",
      "execution_count": 34,
      "outputs": []
    },
    {
      "cell_type": "code",
      "metadata": {
        "id": "D8mY9uuGsilT"
      },
      "source": [
        "#plt.plot(x_test,y_test,',b')"
      ],
      "id": "D8mY9uuGsilT",
      "execution_count": 35,
      "outputs": []
    },
    {
      "cell_type": "markdown",
      "metadata": {
        "id": "jZRSQfQWsilT"
      },
      "source": [
        "### Validation and training set"
      ],
      "id": "jZRSQfQWsilT"
    },
    {
      "cell_type": "code",
      "metadata": {
        "id": "WCcl7bB5silT"
      },
      "source": [
        "x_train, x_valid, y_train, y_valid = x_train_full[:int(np.floor(.8*len(x)))], x_train_full[int(np.floor(.8*len(x))):], y_train_full[:int(np.floor(.8*len(x)))], y_train_full[int(np.floor(.8*len(x))):]"
      ],
      "id": "WCcl7bB5silT",
      "execution_count": 36,
      "outputs": []
    },
    {
      "cell_type": "markdown",
      "metadata": {
        "id": "ISsPsJr6silT"
      },
      "source": [
        "# Making the DNN "
      ],
      "id": "ISsPsJr6silT"
    },
    {
      "cell_type": "markdown",
      "metadata": {
        "id": "_-9Lr-QbsilT"
      },
      "source": [
        "#### Using keras functional api to construct the the  problem\n",
        "#### Unsing wide and deep neural net"
      ],
      "id": "_-9Lr-QbsilT"
    },
    {
      "cell_type": "code",
      "metadata": {
        "id": "z8hNST9EsilU"
      },
      "source": [
        "input_ = keras.layers.Input(shape=(1,))\n",
        "hidden1 = keras.layers.Dense(30, activation=\"tanh\")(input_)\n",
        "hidden2 = keras.layers.Dense(30, activation=\"tanh\")(hidden1)\n",
        "concat = keras.layers.Concatenate()([input_,hidden2])\n",
        "output = keras.layers.Dense(1)(concat)\n",
        "model = keras.Model(inputs=[input_], outputs=[output])"
      ],
      "id": "z8hNST9EsilU",
      "execution_count": 37,
      "outputs": []
    },
    {
      "cell_type": "markdown",
      "metadata": {
        "id": "g62lJjTHsilU"
      },
      "source": [
        "## Compiling the DNN"
      ],
      "id": "g62lJjTHsilU"
    },
    {
      "cell_type": "code",
      "metadata": {
        "id": "_gsoxv7XsilU"
      },
      "source": [
        "model.compile(loss=\"mse\", optimizer=keras.optimizers.Adam(lr=0.001, beta_1=0.9, beta_2=0.999))"
      ],
      "id": "_gsoxv7XsilU",
      "execution_count": 38,
      "outputs": []
    },
    {
      "cell_type": "markdown",
      "metadata": {
        "id": "YhJLRhyQsilU"
      },
      "source": [
        "## Fitting the DNN"
      ],
      "id": "YhJLRhyQsilU"
    },
    {
      "cell_type": "code",
      "metadata": {
        "id": "i0m-1iI_silV",
        "outputId": "f321dd39-93dd-4e54-d062-53489d12e10e",
        "colab": {
          "base_uri": "https://localhost:8080/"
        }
      },
      "source": [
        "device_name = tf.test.gpu_device_name()\n",
        "if device_name != '/device:GPU:0':\n",
        "  raise SystemError('GPU device not found')\n",
        "print('Found GPU at: {}'.format(device_name))\n",
        "with tf.device(device_name):\n",
        "  history = model.fit(x_train,y_train, epochs=20, validation_data=(x_valid,y_valid))"
      ],
      "id": "i0m-1iI_silV",
      "execution_count": 39,
      "outputs": [
        {
          "output_type": "stream",
          "text": [
            "Found GPU at: /device:GPU:0\n",
            "Epoch 1/20\n",
            "6284/6284 [==============================] - 16s 2ms/step - loss: 4.8783\n",
            "Epoch 2/20\n",
            "6284/6284 [==============================] - 15s 2ms/step - loss: 2.8481\n",
            "Epoch 3/20\n",
            "6284/6284 [==============================] - 15s 2ms/step - loss: 1.8254\n",
            "Epoch 4/20\n",
            "6284/6284 [==============================] - 15s 2ms/step - loss: 1.4410\n",
            "Epoch 5/20\n",
            "6284/6284 [==============================] - 15s 2ms/step - loss: 1.1246\n",
            "Epoch 6/20\n",
            "6284/6284 [==============================] - 15s 2ms/step - loss: 0.8506\n",
            "Epoch 7/20\n",
            "6284/6284 [==============================] - 15s 2ms/step - loss: 0.6930\n",
            "Epoch 8/20\n",
            "6284/6284 [==============================] - 15s 2ms/step - loss: 0.6494\n",
            "Epoch 9/20\n",
            "6284/6284 [==============================] - 15s 2ms/step - loss: 0.6269\n",
            "Epoch 10/20\n",
            "6284/6284 [==============================] - 15s 2ms/step - loss: 0.6170\n",
            "Epoch 11/20\n",
            "6284/6284 [==============================] - 15s 2ms/step - loss: 0.6049\n",
            "Epoch 12/20\n",
            "6284/6284 [==============================] - 15s 2ms/step - loss: 0.6003\n",
            "Epoch 13/20\n",
            "6284/6284 [==============================] - 15s 2ms/step - loss: 0.5855\n",
            "Epoch 14/20\n",
            "6284/6284 [==============================] - 15s 2ms/step - loss: 0.5830\n",
            "Epoch 15/20\n",
            "6284/6284 [==============================] - 15s 2ms/step - loss: 0.5811\n",
            "Epoch 16/20\n",
            "6284/6284 [==============================] - 15s 2ms/step - loss: 0.5763\n",
            "Epoch 17/20\n",
            "6284/6284 [==============================] - 15s 2ms/step - loss: 0.5633\n",
            "Epoch 18/20\n",
            "6284/6284 [==============================] - 15s 2ms/step - loss: 0.5635\n",
            "Epoch 19/20\n",
            "6284/6284 [==============================] - 15s 2ms/step - loss: 0.5529\n",
            "Epoch 20/20\n",
            "6284/6284 [==============================] - 15s 2ms/step - loss: 0.5484\n"
          ],
          "name": "stdout"
        }
      ]
    },
    {
      "cell_type": "code",
      "metadata": {
        "id": "17cHbhzRsilX",
        "outputId": "afb5b583-e26c-4d10-89d5-48a514c0445c",
        "colab": {
          "base_uri": "https://localhost:8080/"
        }
      },
      "source": [
        "mse_test = model.evaluate(x_test, y_test)"
      ],
      "id": "17cHbhzRsilX",
      "execution_count": 40,
      "outputs": [
        {
          "output_type": "stream",
          "text": [
            "1571/1571 [==============================] - 3s 2ms/step - loss: 0.5311\n"
          ],
          "name": "stdout"
        }
      ]
    },
    {
      "cell_type": "code",
      "metadata": {
        "id": "O6GoNfemsilX",
        "outputId": "8cfead8c-d946-45e5-9e68-0a56cb65283c",
        "colab": {
          "base_uri": "https://localhost:8080/",
          "height": 282
        }
      },
      "source": [
        "x_new = np.arange(init,endval+step*100,step*100)\n",
        "y_new = model.predict(x_new)\n",
        "plt.plot(x_new,y_new,'*b')\n",
        "plt.plot(x,y,'r')"
      ],
      "id": "O6GoNfemsilX",
      "execution_count": 42,
      "outputs": [
        {
          "output_type": "execute_result",
          "data": {
            "text/plain": [
              "[<matplotlib.lines.Line2D at 0x7f15f056d150>]"
            ]
          },
          "metadata": {
            "tags": []
          },
          "execution_count": 42
        },
        {
          "output_type": "display_data",
          "data": {
            "image/png": "[encoded data removed]",
            "text/plain": [
              "<Figure size 432x288 with 1 Axes>"
            ]
          },
          "metadata": {
            "tags": [],
            "needs_background": "light"
          }
        }
      ]
    },
    {
      "cell_type": "code",
      "metadata": {
        "id": "fy3cbGicsilX"
      },
      "source": [
        ""
      ],
      "id": "fy3cbGicsilX",
      "execution_count": null,
      "outputs": []
    }
  ]
}