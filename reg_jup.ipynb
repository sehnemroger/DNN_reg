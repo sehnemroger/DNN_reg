{
  "nbformat": 4,
  "nbformat_minor": 5,
  "metadata": {
    "kernelspec": {
      "name": "python3",
      "display_name": "Python 3",
      "language": "python"
    },
    "colab": {
      "name": "reg_jup.ipynb",
      "provenance": []
    },
    "metadata": {
      "interpreter": {
        "hash": "ac7a56fc0130fd8de867aea1fb9ebc0c0252cc74af8da63793be002f580b48ee"
      }
    }
  },
  "cells": [
    {
      "cell_type": "markdown",
      "metadata": {
        "id": "v3qj_vvCbYbP"
      },
      "source": [
        "# Importing necessary packages"
      ],
      "id": "v3qj_vvCbYbP"
    },
    {
      "cell_type": "code",
      "metadata": {
        "id": "N2kbM3udboSS"
      },
      "source": [
        "import numpy as np\n",
        "import matplotlib.pyplot as plt\n",
        "import tensorflow as tf\n",
        "from tensorflow import keras"
      ],
      "id": "N2kbM3udboSS",
      "execution_count": 1,
      "outputs": []
    },
    {
      "cell_type": "markdown",
      "metadata": {
        "id": "H_7RpKEOTJot"
      },
      "source": [
        "# Generating data \n"
      ],
      "id": "H_7RpKEOTJot"
    },
    {
      "source": [
        "## Function to be fitted"
      ],
      "cell_type": "markdown",
      "metadata": {
        "id": "jj6l0y6qTgFJ"
      }
    },
    {
      "cell_type": "code",
      "metadata": {
        "id": "AsU5ygIATkxc"
      },
      "source": [
        "def function(x):\n",
        "  y = x*np.sin(.5*x*np.sin(.5*x*np.cos(x)))\n",
        "  return y\n",
        "vf = np.vectorize(function)"
      ],
      "id": "AsU5ygIATkxc",
      "execution_count": 2,
      "outputs": []
    },
    {
      "source": [
        "### Plot the function"
      ],
      "cell_type": "markdown",
      "metadata": {
        "id": "cSgiMMtPcOUA"
      }
    },
    {
      "cell_type": "code",
      "metadata": {
        "colab": {
          "base_uri": "https://localhost:8080/",
          "height": 282
        },
        "id": "wfv3wKR6cUVS",
        "outputId": "d30f35fd-f84c-40b0-add5-59fa9a13a836"
      },
      "source": [
        "init = -2*np.pi\n",
        "endval = 2*np.pi\n",
        "step = .00001\n",
        "x = np.arange(init,endval+step,step)\n",
        "y = vf(x) + .1*np.random.rand(np.size(x))\n",
        "#plt.plot(x,y)"
      ],
      "id": "wfv3wKR6cUVS",
      "execution_count": 3,
      "outputs": []
    },
    {
      "source": [
        "## Randomizing and divinding data into test and train sets"
      ],
      "cell_type": "markdown",
      "metadata": {}
    },
    {
      "source": [
        "p = np.random.permutation(len(x)) # Create a random permutation \n",
        "x_perm = x[p]\n",
        "y_perm = y[p] # Aplling same permutation on both"
      ],
      "cell_type": "code",
      "metadata": {},
      "execution_count": 4,
      "outputs": []
    },
    {
      "source": [
        "### Plotting to see if nothing changed (sceptical people go :D )"
      ],
      "cell_type": "markdown",
      "metadata": {}
    },
    {
      "cell_type": "code",
      "execution_count": 5,
      "metadata": {},
      "outputs": [],
      "source": [
        "#plt.plot(x,y)\n",
        "#plt.plot(x_perm,y_perm,',r')"
      ]
    },
    {
      "source": [
        "### Train set and test set, train set is 80% of the data"
      ],
      "cell_type": "markdown",
      "metadata": {}
    },
    {
      "cell_type": "code",
      "execution_count": 6,
      "metadata": {},
      "outputs": [],
      "source": [
        "x_train_full , x_test , y_train_full, y_test = x_perm[:int(np.floor(.8*len(x)))], x_perm[int(np.floor(.8*len(x))):], y_perm[:int(np.floor(.8*len(x)))], y_perm[int(np.floor(.8*len(x))):]"
      ]
    },
    {
      "source": [
        "#### Since all the training data is mixed the plot is the same (except for the blank spots)"
      ],
      "cell_type": "markdown",
      "metadata": {}
    },
    {
      "cell_type": "code",
      "execution_count": 7,
      "metadata": {},
      "outputs": [],
      "source": [
        "#plt.plot(x_train_full,y_train_full,',r')"
      ]
    },
    {
      "cell_type": "code",
      "execution_count": 8,
      "metadata": {},
      "outputs": [],
      "source": [
        "#plt.plot(x_test,y_test,',b')"
      ]
    },
    {
      "source": [
        "### Validation and training set"
      ],
      "cell_type": "markdown",
      "metadata": {}
    },
    {
      "cell_type": "code",
      "execution_count": 9,
      "metadata": {},
      "outputs": [],
      "source": [
        "x_train, x_valid, y_train, y_valid = x_train_full[:int(np.floor(.8*len(x)))], x_train_full[int(np.floor(.8*len(x))):], y_train_full[:int(np.floor(.8*len(x)))], y_train_full[int(np.floor(.8*len(x))):]"
      ]
    },
    {
      "source": [
        "# Making the DNN "
      ],
      "cell_type": "markdown",
      "metadata": {}
    },
    {
      "source": [
        "#### Using keras functional api to construct the the  problem\n",
        "#### Unsing wide and deep neural net"
      ],
      "cell_type": "markdown",
      "metadata": {}
    },
    {
      "cell_type": "code",
      "execution_count": 10,
      "metadata": {},
      "outputs": [],
      "source": [
        "input_ = keras.layers.Input(shape=(1,))\n",
        "hidden1 = keras.layers.Dense(30, activation=\"tanh\")(input_)\n",
        "hidden2 = keras.layers.Dense(30, activation=\"tanh\")(hidden1)\n",
        "concat = keras.layers.Concatenate()([input_,hidden2])\n",
        "output = keras.layers.Dense(1)(concat)\n",
        "model = keras.Model(inputs=[input_], outputs=[output])"
      ]
    },
    {
      "source": [
        "## Compiling the DNN"
      ],
      "cell_type": "markdown",
      "metadata": {}
    },
    {
      "cell_type": "code",
      "execution_count": 11,
      "metadata": {},
      "outputs": [],
      "source": [
        "model.compile(loss=\"mse\", optimizer=keras.optimizers.Adam())"
      ]
    },
    {
      "source": [
        "## Fitting the DNN"
      ],
      "cell_type": "markdown",
      "metadata": {}
    },
    {
      "cell_type": "code",
      "execution_count": 12,
      "metadata": {},
      "outputs": [
        {
          "output_type": "stream",
          "name": "stdout",
          "text": [
            "Epoch 1/20\n",
            "31416/31416 [==============================] - 19s 604us/step - loss: 2.9578\n",
            "Epoch 2/20\n",
            "31416/31416 [==============================] - 18s 569us/step - loss: 0.4358\n",
            "Epoch 3/20\n",
            "31416/31416 [==============================] - 19s 590us/step - loss: 0.0579\n",
            "Epoch 4/20\n",
            "31416/31416 [==============================] - 18s 579us/step - loss: 0.0035\n",
            "Epoch 5/20\n",
            "31416/31416 [==============================] - 18s 567us/step - loss: 0.0031\n",
            "Epoch 6/20\n",
            "31416/31416 [==============================] - 19s 617us/step - loss: 0.0028\n",
            "Epoch 7/20\n",
            "31416/31416 [==============================] - 17s 553us/step - loss: 0.0028\n",
            "Epoch 8/20\n",
            "31416/31416 [==============================] - 17s 545us/step - loss: 0.0026\n",
            "Epoch 9/20\n",
            "31416/31416 [==============================] - 17s 528us/step - loss: 0.0026\n",
            "Epoch 10/20\n",
            "31416/31416 [==============================] - 16s 510us/step - loss: 0.0026\n",
            "Epoch 11/20\n",
            "31416/31416 [==============================] - 17s 532us/step - loss: 0.0024\n",
            "Epoch 12/20\n",
            "31416/31416 [==============================] - 18s 566us/step - loss: 0.0025\n",
            "Epoch 13/20\n",
            "31416/31416 [==============================] - 18s 573us/step - loss: 0.0026\n",
            "Epoch 14/20\n",
            "31416/31416 [==============================] - 17s 551us/step - loss: 0.0022\n",
            "Epoch 15/20\n",
            "31416/31416 [==============================] - 18s 559us/step - loss: 0.0023\n",
            "Epoch 16/20\n",
            "31416/31416 [==============================] - 17s 551us/step - loss: 0.0023\n",
            "Epoch 17/20\n",
            "31416/31416 [==============================] - 17s 557us/step - loss: 0.0023\n",
            "Epoch 18/20\n",
            "31416/31416 [==============================] - 17s 549us/step - loss: 0.0022\n",
            "Epoch 19/20\n",
            "31416/31416 [==============================] - 17s 556us/step - loss: 0.0021\n",
            "Epoch 20/20\n",
            "31416/31416 [==============================] - 19s 611us/step - loss: 0.0022\n"
          ]
        }
      ],
      "source": [
        "history = model.fit(x_train,y_train, epochs=20, validation_data=(x_valid,y_valid))"
      ]
    },
    {
      "cell_type": "code",
      "execution_count": 13,
      "metadata": {},
      "outputs": [
        {
          "output_type": "stream",
          "name": "stdout",
          "text": [
            "7854/7854 [==============================] - 3s 394us/step - loss: 0.0022\n"
          ]
        }
      ],
      "source": [
        "mse_test = model.evaluate(x_test, y_test)"
      ]
    },
    {
      "cell_type": "code",
      "execution_count": 14,
      "metadata": {},
      "outputs": [],
      "source": [
        "x_new = np.arange(init,endval+step/100,step/100)\n",
        "y_new = model.predict(x_new)\n",
        "plt.plot(x_new,y_new,'*b')\n",
        "plt.plot(x,y,'r')"
      ]
    },
    {
      "cell_type": "code",
      "execution_count": null,
      "metadata": {},
      "outputs": [],
      "source": []
    }
  ]
}