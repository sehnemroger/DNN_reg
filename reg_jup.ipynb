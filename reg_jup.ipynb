{
  "nbformat": 4,
  "nbformat_minor": 5,
  "metadata": {
    "kernelspec": {
      "display_name": "Python 3",
      "language": "python",
      "name": "python3"
    },
    "language_info": {
      "codemirror_mode": {
        "name": "ipython",
        "version": 3
      },
      "file_extension": ".py",
      "mimetype": "text/x-python",
      "name": "python",
      "nbconvert_exporter": "python",
      "pygments_lexer": "ipython3",
      "version": "3.8.5"
    },
    "colab": {
      "name": "reg_jup.ipynb",
      "provenance": []
    }
  },
  "cells": [
    {
      "cell_type": "markdown",
      "metadata": {
        "id": "v3qj_vvCbYbP"
      },
      "source": [
        "# Importing necessary packages"
      ],
      "id": "v3qj_vvCbYbP"
    },
    {
      "cell_type": "code",
      "metadata": {
        "id": "N2kbM3udboSS"
      },
      "source": [
        "import numpy as np"
      ],
      "id": "N2kbM3udboSS",
      "execution_count": 1,
      "outputs": []
    },
    {
      "cell_type": "markdown",
      "metadata": {
        "id": "H_7RpKEOTJot"
      },
      "source": [
        "# Generating data \n"
      ],
      "id": "H_7RpKEOTJot"
    },
    {
      "cell_type": "markdown",
      "metadata": {
        "id": "jj6l0y6qTgFJ"
      },
      "source": [
        "## Function to be fitted"
      ],
      "id": "jj6l0y6qTgFJ"
    },
    {
      "cell_type": "code",
      "metadata": {
        "id": "AsU5ygIATkxc"
      },
      "source": [
        "def function(x):\n",
        "  y = sin(x)\n",
        "  return y\n",
        "vf = np.vectorize(function)"
      ],
      "id": "AsU5ygIATkxc",
      "execution_count": 4,
      "outputs": []
    },
    {
      "cell_type": "markdown",
      "metadata": {
        "id": "cSgiMMtPcOUA"
      },
      "source": [
        "Plot the function"
      ],
      "id": "cSgiMMtPcOUA"
    },
    {
      "cell_type": "code",
      "metadata": {
        "id": "wfv3wKR6cUVS"
      },
      "source": [
        ""
      ],
      "id": "wfv3wKR6cUVS",
      "execution_count": null,
      "outputs": []
    }
  ]
}